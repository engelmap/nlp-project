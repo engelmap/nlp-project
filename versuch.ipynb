{
 "cells": [
  {
   "cell_type": "code",
   "execution_count": 9,
   "metadata": {},
   "outputs": [
    {
     "name": "stdout",
     "output_type": "stream",
     "text": [
      "{'enthusiasm', 'neutral', 'fun', 'boredom', 'surprise', 'anger', 'love', 'sadness', 'happiness', 'worry', 'relief', 'hate', 'empty'}\n",
      "2187\n",
      "16063\n",
      "13112\n"
     ]
    }
   ],
   "source": [
    "import csv\n",
    "import numpy as np\n",
    "import string\n",
    "\n",
    "\n",
    "def remove_punctuation(data):\n",
    "    result = []\n",
    "    for line in data:\n",
    "        result.append([line[0],(line[1].translate(str.maketrans('','', string.punctuation)))])\n",
    "    return(result)\n",
    "\n",
    "def remove_numbers(data):\n",
    "    result = []\n",
    "    for line in data:\n",
    "        temp = \"\"\n",
    "        for char in line[1]:\n",
    "            if char != \"0\" and char != \"1\" and char != \"2\" and char != \"3\" and char != \"4\" and char != \"5\" and  char != \"6\" and char != \"7\" and char != \"8\" and char != \"9\":\n",
    "                temp = temp + char\n",
    "        result.append([line[0],temp])\n",
    "    return(result)\n",
    "\n",
    "data = []\n",
    "with open('tweet_emotions.csv', mode ='r')as file:\n",
    "    re = csv.reader(file)\n",
    "    count = False\n",
    "    for line in re:\n",
    "        if count:\n",
    "            data.append(line)\n",
    "        else:\n",
    "            count=True\n",
    "    positive = []\n",
    "    negative = []\n",
    "    print(set([x[1] for x in data]))\n",
    "    print(len([x for x in data if x[1]==\"surprise\"]))\n",
    "    \n",
    "    count = 0\n",
    "    for x in data:\n",
    "        if x[1] == \"fun\" or x[1] == \"enthusiasm\" or x[1] == \"love\" or x[1] == \"happiness\" or x[1] ==\"relief\":\n",
    "            positive.append(x)\n",
    "        if x[1] == \"hate\" or x[1] == \"anger\" or x[1] == \"empty\" or x[1] == \"worry\" or x[1] == \"sadness\" or x[1] == \"boredom\":\n",
    "            #if count % 6 != 0:\n",
    "            negative.append(x)\n",
    "        count +=1\n",
    "    print(len(negative))\n",
    "    print(len(positive))\n",
    "    file_pos = open(r'positive.csv', 'w+', newline ='') \n",
    "    file_neg = open(r'negative.csv', 'w+', newline ='') \n",
    "    with file_pos:     \n",
    "        write = csv.writer(file_pos)\n",
    "        write.writerows(positive) \n",
    "    with file_neg:\n",
    "        write=csv.writer(file_neg)\n",
    "        write.writerows(negative)\n",
    "    \n",
    "\n",
    "    \n",
    "\n"
   ]
  }
 ],
 "metadata": {
  "interpreter": {
   "hash": "f31c1fe1c36aaa4d32cb0816fd78552f0caa11e77dcf57aa2899123b61a94662"
  },
  "kernelspec": {
   "display_name": "Python 3.10.4 64-bit",
   "language": "python",
   "name": "python3"
  },
  "language_info": {
   "codemirror_mode": {
    "name": "ipython",
    "version": 3
   },
   "file_extension": ".py",
   "mimetype": "text/x-python",
   "name": "python",
   "nbconvert_exporter": "python",
   "pygments_lexer": "ipython3",
   "version": "3.10.4"
  },
  "orig_nbformat": 4
 },
 "nbformat": 4,
 "nbformat_minor": 2
}
