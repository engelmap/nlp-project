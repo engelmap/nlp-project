{
 "cells": [
  {
   "cell_type": "code",
   "execution_count": 1,
   "id": "ba7deb1f",
   "metadata": {},
   "outputs": [],
   "source": [
    "import pandas as pd\n",
    "import numpy as np\n",
    "import spacy\n",
    "import matplotlib.pyplot as plt\n",
    "from sklearn.model_selection import train_test_split\n",
    "from sklearn.feature_extraction.text import TfidfVectorizer\n",
    "\n",
    "from sklearn.naive_bayes import MultinomialNB\n",
    "from sklearn import svm\n",
    "from sklearn import model_selection\n",
    "from sklearn.pipeline import make_pipeline\n",
    "from sklearn.ensemble import RandomForestClassifier\n",
    "from sklearn.neural_network import MLPClassifier\n",
    "from sklearn.metrics import balanced_accuracy_score, recall_score, precision_score, f1_score, confusion_matrix\n",
    "from sklearn.metrics import ConfusionMatrixDisplay, matthews_corrcoef, classification_report\n",
    "from sklearn.metrics import cohen_kappa_score, precision_recall_fscore_support\n",
    "from sklearn.model_selection import learning_curve\n",
    "from sklearn.model_selection import GridSearchCV\n",
    "from sklearn.tree import DecisionTreeClassifier\n",
    "\n",
    "from sklearn.metrics import roc_auc_score\n",
    "from sklearn.metrics import roc_curve, auc\n",
    "from sklearn.metrics import RocCurveDisplay\n",
    "\n",
    "from sklearn.preprocessing import label_binarize\n",
    "from sklearn.model_selection import learning_curve\n",
    "from sklearn.model_selection import ShuffleSplit"
   ]
  },
  {
   "cell_type": "code",
   "execution_count": 2,
   "id": "3145c4c9",
   "metadata": {},
   "outputs": [],
   "source": [
    "def calc_metrics(classifiers, X, y):\n",
    "    \n",
    "    X_train, X_rem, y_train, y_rem = train_test_split(X, y, test_size=0.3, random_state=42, shuffle=True)\n",
    "    X_valid, X_test, y_valid, y_test = train_test_split(X_rem, y_rem, test_size=0.5, random_state=42, shuffle=True)\n",
    "    \n",
    "    results = {}\n",
    "    for clf in classifiers:\n",
    "        \n",
    "        clf_name = type(clf).__name__\n",
    "        results[clf_name] = {}\n",
    "\n",
    "        clf.fit(X_train, y_train)\n",
    "        y_pred_train = clf.predict(X_train)\n",
    "        y_pred = clf.predict(X_valid)\n",
    "        \n",
    "        ConfusionMatrixDisplay.from_predictions(y_valid, y_pred)\n",
    "        results[clf_name][\"accuracy\"] = balanced_accuracy_score(y_valid, y_pred)\n",
    "        \n",
    "        #fix support being null when using average metric\n",
    "        all_scores = precision_recall_fscore_support(y_valid, y_pred, pos_label=\"positive\") #macro, micro or weighted?\n",
    "        results[clf_name][\"precision\"] = all_scores[0] \n",
    "        results[clf_name][\"recall\"] = all_scores[1] \n",
    "        results[clf_name][\"f1\"] = all_scores[2] \n",
    "        results[clf_name][\"support\"] = all_scores[3] \n",
    "        \n",
    "        #results[clf_name][\"roc\"] = roc_auc_score(y_test, y_pred)\n",
    "        results[clf_name][\"matthew_coeff\"] = matthews_corrcoef(y_valid, y_pred)\n",
    "        results[clf_name][\"cohen_kappa\"] = cohen_kappa_score(y_valid, y_pred)\n",
    "        \n",
    "    return results"
   ]
  },
  {
   "cell_type": "code",
   "execution_count": 3,
   "id": "99076224",
   "metadata": {},
   "outputs": [],
   "source": [
    "def plot_learning_curve(classifiers, X, y, ylim=None, cv=None, n_jobs=None, \n",
    "                        train_sizes=np.linspace(0.1, 1.0, 5),):\n",
    "    \n",
    "    size = len(classifiers)\n",
    "    \n",
    "    if len(classifiers) > 1:\n",
    "        _, axes = plt.subplots(1, len(classifiers), figsize=(7.5 * size, 5))\n",
    "    \n",
    "    for i in range(0, len(classifiers)):\n",
    "        \n",
    "        if ylim is not None:\n",
    "            axes[i].set_ylim(*ylim)\n",
    "        axes[i].set_xlabel(\"Training examples\")\n",
    "        axes[i].set_ylabel(\"Score\")\n",
    "        \n",
    "        estimator = classifiers[i]\n",
    "        clf_name = type(estimator).__name__\n",
    "        axes[i].set_title(f\"Learning Curve ({clf_name})\")\n",
    "        train_sizes, train_scores, test_scores = learning_curve(estimator, X, y, cv=cv, n_jobs=n_jobs, train_sizes=train_sizes)                                                                                                           \n",
    "        \n",
    "        train_scores_mean = np.mean(train_scores, axis=1)\n",
    "        train_scores_std = np.std(train_scores, axis=1)\n",
    "        test_scores_mean = np.mean(test_scores, axis=1)\n",
    "        test_scores_std = np.std(test_scores, axis=1)\n",
    "\n",
    "        # Plot learning curve\n",
    "        axes[i].grid()\n",
    "        axes[i].fill_between(\n",
    "            train_sizes,\n",
    "            train_scores_mean - train_scores_std,\n",
    "            train_scores_mean + train_scores_std,\n",
    "            alpha=0.1,\n",
    "            color=\"r\",\n",
    "        )\n",
    "        axes[i].fill_between(\n",
    "            train_sizes,\n",
    "            test_scores_mean - test_scores_std,\n",
    "            test_scores_mean + test_scores_std,\n",
    "            alpha=0.1,\n",
    "            color=\"g\",\n",
    "        )\n",
    "        axes[i].plot(\n",
    "            train_sizes, train_scores_mean, \"o-\", color=\"r\", label=\"Training score\"\n",
    "        )\n",
    "        axes[i].plot(\n",
    "            train_sizes, test_scores_mean, \"o-\", color=\"g\", label=\"Cross-validation score\"\n",
    "        )\n",
    "        axes[i].legend(loc=\"best\")\n",
    "    return plt"
   ]
  },
  {
   "cell_type": "code",
   "execution_count": 4,
   "id": "633a19c7",
   "metadata": {},
   "outputs": [],
   "source": [
    "def get_binary_df():\n",
    "    return pd.read_csv(\"tweet_emotions_binary_cleaned.csv\")\n",
    "\n",
    "def get_ternary_df():\n",
    "    return pd.read_csv(\"tweet_emotions_three_classes_cleaned.csv\")\n",
    "\n",
    "def get_complete_df():\n",
    "    return pd.read_csv(\"tweet_emotions_cleaned.csv\")"
   ]
  },
  {
   "cell_type": "code",
   "execution_count": 5,
   "id": "ab3ff7f9",
   "metadata": {},
   "outputs": [],
   "source": [
    "def get_spacy_embedding(df, X_train, X_test):\n",
    "    X_train = [nlp(text).vector for text in X_train]\n",
    "    X_test = [nlp(text).vector for text in X_test]\n",
    "    \n",
    "    return X_train, X_test"
   ]
  },
  {
   "cell_type": "code",
   "execution_count": 6,
   "id": "cc538711",
   "metadata": {},
   "outputs": [],
   "source": [
    "def train_models(df, vectorizer, text=\"text\", labels=\"emotion\"):\n",
    "    classifiers = [svm.LinearSVC(), RandomForestClassifier()] #DecisionTreeClassifier()]# # MLPClassifier()]\n",
    "\n",
    "    #look into learning curves (do we have enough samples?) / validation curves (is the model under/overfitting?)\n",
    "    \n",
    "    X = vect.transform(df[text])\n",
    "    y = df[labels]\n",
    "\n",
    "    print(\"Amount of features: \", len(vect.get_feature_names_out()))\n",
    "    print(\"Features: \", vect.get_feature_names_out())\n",
    "\n",
    "    cv = ShuffleSplit(n_splits=5, test_size=0.2, random_state=0)\n",
    "    plot_learning_curve(classifiers, X, y, ylim=(0.5, 1.01), cv=cv, n_jobs=4)\n",
    "    \n",
    "    results = calc_metrics(classifiers, X, y)\n",
    "    \n",
    "    df_results = pd.DataFrame(results)\n",
    "    return df_results\n",
    "\n",
    "    plt.show()"
   ]
  },
  {
   "cell_type": "code",
   "execution_count": 7,
   "id": "2f764539",
   "metadata": {},
   "outputs": [],
   "source": [
    "def remove_empty_rows(df, text=\"cleaned_content\", labels=\"new_sentiment\"):\n",
    "    df[text].replace(\"\", np.nan, inplace=True)\n",
    "    df[labels].replace(\"\", np.nan, inplace=True)\n",
    "    df.dropna(subset=[text], inplace=True)\n",
    "    df.dropna(subset=[labels], inplace=True)\n",
    "    return df"
   ]
  },
  {
   "cell_type": "code",
   "execution_count": 12,
   "id": "d0b1f14b",
   "metadata": {
    "scrolled": false
   },
   "outputs": [
    {
     "name": "stdout",
     "output_type": "stream",
     "text": [
      "       Unnamed: 0  index    tweet_id sentiment  \\\n",
      "24263       24306  24306  1752532825  negative   \n",
      "28984       29033  29033  1753884644  positive   \n",
      "11046       11064  11064  1964575179  negative   \n",
      "191           191    191  1957028895  negative   \n",
      "17614       17639  17639  1694664836  negative   \n",
      "23438       23478  23478  1752157660  positive   \n",
      "22001       22037  22037  1751430428  positive   \n",
      "25892       25938  25938  1753097023  positive   \n",
      "14296       14317  14317  1966082400  negative   \n",
      "20705       20738  20738  1696086496  negative   \n",
      "\n",
      "                                                 content  \\\n",
      "24263  @lightgood thank you  You too! I hope this tur...   \n",
      "28984  @nataliefisher I like the idea of eliminating ...   \n",
      "11046  @Ponyless soz i neva saw this message till now...   \n",
      "191             I haven't seen Muffin in two whole days!   \n",
      "17614  @karuski try again, minna  i edited quickly, s...   \n",
      "23438  Downtown drinking celebrating the cavs victory!!!   \n",
      "22001                              @Brandi408 thank you!   \n",
      "25892  this one goes out to Jimmy Fallon and Justin T...   \n",
      "14296             awake sadly        seeing Leon today !   \n",
      "20705             I  didnt know there was a starwars day   \n",
      "\n",
      "                                         cleaned_content new_sentiment  \n",
      "24263                     thank you I hope turn top week      positive  \n",
      "28984  I like idea eliminate bludger beater tackle pp...      negative  \n",
      "11046  soz neva see message till nowif u add delete c...      negative  \n",
      "191                  I have not see Muffin two whole day      positive  \n",
      "17614                       try minna edit quickly sorry      negative  \n",
      "23438           downtown drinking celebrate cavs victory      negative  \n",
      "22001                                              thank      negative  \n",
      "25892  one go Jimmy Fallon Justin Timberlakedoin Gibb...      negative  \n",
      "14296                         awake sadly see Leon today      negative  \n",
      "20705                          I do not know starwar day      negative  \n",
      "Amount of features:  26028\n",
      "Features:  ['0530' '080509' '0909' ... 'ï½ï½' 'ï½ï½l' 'ï½ï½we']\n"
     ]
    },
    {
     "name": "stderr",
     "output_type": "stream",
     "text": [
      "C:\\Users\\Paul\\anaconda3\\envs\\intro2nlp\\lib\\site-packages\\sklearn\\metrics\\_classification.py:1370: UserWarning: Note that pos_label (set to 'positive') is ignored when average != 'binary' (got None). You may use labels=[pos_label] to specify a single positive class.\n",
      "  warnings.warn(\n",
      "C:\\Users\\Paul\\anaconda3\\envs\\intro2nlp\\lib\\site-packages\\sklearn\\metrics\\_classification.py:1370: UserWarning: Note that pos_label (set to 'positive') is ignored when average != 'binary' (got None). You may use labels=[pos_label] to specify a single positive class.\n",
      "  warnings.warn(\n"
     ]
    },
    {
     "data": {
      "image/png": "[encoded data removed]",
      "text/plain": [
       "<Figure size 1080x360 with 2 Axes>"
      ]
     },
     "metadata": {
      "needs_background": "light"
     },
     "output_type": "display_data"
    },
    {
     "data": {
      "image/png": "[encoded data removed]",
      "text/plain": [
       "<Figure size 432x288 with 2 Axes>"
      ]
     },
     "metadata": {
      "needs_background": "light"
     },
     "output_type": "display_data"
    },
    {
     "data": {
      "image/png": "[encoded data removed]",
      "text/plain": [
       "<Figure size 432x288 with 2 Axes>"
      ]
     },
     "metadata": {
      "needs_background": "light"
     },
     "output_type": "display_data"
    }
   ],
   "source": [
    "df = get_binary_df()\n",
    "df = remove_empty_rows(df, \"cleaned_content\", \"new_sentiment\")\n",
    "vect = TfidfVectorizer()\n",
    "vect.fit(df[\"cleaned_content\"])\n",
    "\n",
    "print(df.sample(10))\n",
    "df_results = train_models(df, vect, text=\"cleaned_content\", labels=\"new_sentiment\")"
   ]
  },
  {
   "cell_type": "code",
   "execution_count": 11,
   "id": "ab4659a8",
   "metadata": {},
   "outputs": [
    {
     "data": {
      "text/html": [
       "<div>\n",
       "<style scoped>\n",
       "    .dataframe tbody tr th:only-of-type {\n",
       "        vertical-align: middle;\n",
       "    }\n",
       "\n",
       "    .dataframe tbody tr th {\n",
       "        vertical-align: top;\n",
       "    }\n",
       "\n",
       "    .dataframe thead th {\n",
       "        text-align: right;\n",
       "    }\n",
       "</style>\n",
       "<table border=\"1\" class=\"dataframe\">\n",
       "  <thead>\n",
       "    <tr style=\"text-align: right;\">\n",
       "      <th></th>\n",
       "      <th>LinearSVC</th>\n",
       "      <th>RandomForestClassifier</th>\n",
       "    </tr>\n",
       "  </thead>\n",
       "  <tbody>\n",
       "    <tr>\n",
       "      <th>accuracy</th>\n",
       "      <td>0.884646</td>\n",
       "      <td>0.892577</td>\n",
       "    </tr>\n",
       "    <tr>\n",
       "      <th>precision</th>\n",
       "      <td>[0.8718890248878008, 0.9061522419186653]</td>\n",
       "      <td>[0.9027898866608544, 0.8814457831325301]</td>\n",
       "    </tr>\n",
       "    <tr>\n",
       "      <th>recall</th>\n",
       "      <td>[0.9223133362106172, 0.8469785575048733]</td>\n",
       "      <td>[0.8938282261545102, 0.8913255360623782]</td>\n",
       "    </tr>\n",
       "    <tr>\n",
       "      <th>f1</th>\n",
       "      <td>[0.8963926174496644, 0.8755667506297229]</td>\n",
       "      <td>[0.8982867057037518, 0.8863581293918099]</td>\n",
       "    </tr>\n",
       "    <tr>\n",
       "      <th>support</th>\n",
       "      <td>[2317, 2052]</td>\n",
       "      <td>[2317, 2052]</td>\n",
       "    </tr>\n",
       "    <tr>\n",
       "      <th>matthew_coeff</th>\n",
       "      <td>0.773654</td>\n",
       "      <td>0.784695</td>\n",
       "    </tr>\n",
       "    <tr>\n",
       "      <th>cohen_kappa</th>\n",
       "      <td>0.772175</td>\n",
       "      <td>0.784651</td>\n",
       "    </tr>\n",
       "  </tbody>\n",
       "</table>\n",
       "</div>"
      ],
      "text/plain": [
       "                                              LinearSVC  \\\n",
       "accuracy                                       0.884646   \n",
       "precision      [0.8718890248878008, 0.9061522419186653]   \n",
       "recall         [0.9223133362106172, 0.8469785575048733]   \n",
       "f1             [0.8963926174496644, 0.8755667506297229]   \n",
       "support                                    [2317, 2052]   \n",
       "matthew_coeff                                  0.773654   \n",
       "cohen_kappa                                    0.772175   \n",
       "\n",
       "                                 RandomForestClassifier  \n",
       "accuracy                                       0.892577  \n",
       "precision      [0.9027898866608544, 0.8814457831325301]  \n",
       "recall         [0.8938282261545102, 0.8913255360623782]  \n",
       "f1             [0.8982867057037518, 0.8863581293918099]  \n",
       "support                                    [2317, 2052]  \n",
       "matthew_coeff                                  0.784695  \n",
       "cohen_kappa                                    0.784651  "
      ]
     },
     "execution_count": 11,
     "metadata": {},
     "output_type": "execute_result"
    }
   ],
   "source": [
    "df_results.head(10)"
   ]
  },
  {
   "cell_type": "code",
   "execution_count": null,
   "id": "5d534145",
   "metadata": {},
   "outputs": [],
   "source": []
  }
 ],
 "metadata": {
  "kernelspec": {
   "display_name": "Python 3 (ipykernel)",
   "language": "python",
   "name": "python3"
  },
  "language_info": {
   "codemirror_mode": {
    "name": "ipython",
    "version": 3
   },
   "file_extension": ".py",
   "mimetype": "text/x-python",
   "name": "python",
   "nbconvert_exporter": "python",
   "pygments_lexer": "ipython3",
   "version": "3.9.12"
  }
 },
 "nbformat": 4,
 "nbformat_minor": 5
}
